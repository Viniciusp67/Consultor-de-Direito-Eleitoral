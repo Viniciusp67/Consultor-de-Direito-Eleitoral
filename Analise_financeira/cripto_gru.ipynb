{
  "nbformat": 4,
  "nbformat_minor": 0,
  "metadata": {
    "colab": {
      "provenance": [],
      "include_colab_link": true
    },
    "kernelspec": {
      "name": "python3",
      "display_name": "Python 3"
    },
    "language_info": {
      "name": "python"
    }
  },
  "cells": [
    {
      "cell_type": "markdown",
      "metadata": {
        "id": "view-in-github",
        "colab_type": "text"
      },
      "source": [
        "<a href=\"https://colab.research.google.com/github/Viniciusp67/Consultor-de-Direito-Eleitoral/blob/main/cripto_gru.ipynb\" target=\"_parent\"><img src=\"https://colab.research.google.com/assets/colab-badge.svg\" alt=\"Open In Colab\"/></a>"
      ]
    },
    {
      "cell_type": "code",
      "execution_count": 1,
      "metadata": {
        "colab": {
          "base_uri": "https://localhost:8080/"
        },
        "id": "9zMciBGIyCOD",
        "outputId": "797c9579-ca74-4b7f-e493-68a9c7dd6ffa"
      },
      "outputs": [
        {
          "output_type": "stream",
          "name": "stdout",
          "text": [
            "Requirement already satisfied: yfinance in /usr/local/lib/python3.10/dist-packages (0.2.40)\n",
            "Requirement already satisfied: prophet in /usr/local/lib/python3.10/dist-packages (1.1.5)\n",
            "Requirement already satisfied: tensorflow in /usr/local/lib/python3.10/dist-packages (2.15.0)\n",
            "Requirement already satisfied: pandas>=1.3.0 in /usr/local/lib/python3.10/dist-packages (from yfinance) (2.0.3)\n",
            "Requirement already satisfied: numpy>=1.16.5 in /usr/local/lib/python3.10/dist-packages (from yfinance) (1.25.2)\n",
            "Requirement already satisfied: requests>=2.31 in /usr/local/lib/python3.10/dist-packages (from yfinance) (2.31.0)\n",
            "Requirement already satisfied: multitasking>=0.0.7 in /usr/local/lib/python3.10/dist-packages (from yfinance) (0.0.11)\n",
            "Requirement already satisfied: lxml>=4.9.1 in /usr/local/lib/python3.10/dist-packages (from yfinance) (4.9.4)\n",
            "Requirement already satisfied: platformdirs>=2.0.0 in /usr/local/lib/python3.10/dist-packages (from yfinance) (4.2.2)\n",
            "Requirement already satisfied: pytz>=2022.5 in /usr/local/lib/python3.10/dist-packages (from yfinance) (2023.4)\n",
            "Requirement already satisfied: frozendict>=2.3.4 in /usr/local/lib/python3.10/dist-packages (from yfinance) (2.4.4)\n",
            "Requirement already satisfied: peewee>=3.16.2 in /usr/local/lib/python3.10/dist-packages (from yfinance) (3.17.5)\n",
            "Requirement already satisfied: beautifulsoup4>=4.11.1 in /usr/local/lib/python3.10/dist-packages (from yfinance) (4.12.3)\n",
            "Requirement already satisfied: html5lib>=1.1 in /usr/local/lib/python3.10/dist-packages (from yfinance) (1.1)\n",
            "Requirement already satisfied: cmdstanpy>=1.0.4 in /usr/local/lib/python3.10/dist-packages (from prophet) (1.2.4)\n",
            "Requirement already satisfied: matplotlib>=2.0.0 in /usr/local/lib/python3.10/dist-packages (from prophet) (3.7.1)\n",
            "Requirement already satisfied: holidays>=0.25 in /usr/local/lib/python3.10/dist-packages (from prophet) (0.51)\n",
            "Requirement already satisfied: tqdm>=4.36.1 in /usr/local/lib/python3.10/dist-packages (from prophet) (4.66.4)\n",
            "Requirement already satisfied: importlib-resources in /usr/local/lib/python3.10/dist-packages (from prophet) (6.4.0)\n",
            "Requirement already satisfied: absl-py>=1.0.0 in /usr/local/lib/python3.10/dist-packages (from tensorflow) (1.4.0)\n",
            "Requirement already satisfied: astunparse>=1.6.0 in /usr/local/lib/python3.10/dist-packages (from tensorflow) (1.6.3)\n",
            "Requirement already satisfied: flatbuffers>=23.5.26 in /usr/local/lib/python3.10/dist-packages (from tensorflow) (24.3.25)\n",
            "Requirement already satisfied: gast!=0.5.0,!=0.5.1,!=0.5.2,>=0.2.1 in /usr/local/lib/python3.10/dist-packages (from tensorflow) (0.5.5)\n",
            "Requirement already satisfied: google-pasta>=0.1.1 in /usr/local/lib/python3.10/dist-packages (from tensorflow) (0.2.0)\n",
            "Requirement already satisfied: h5py>=2.9.0 in /usr/local/lib/python3.10/dist-packages (from tensorflow) (3.9.0)\n",
            "Requirement already satisfied: libclang>=13.0.0 in /usr/local/lib/python3.10/dist-packages (from tensorflow) (18.1.1)\n",
            "Requirement already satisfied: ml-dtypes~=0.2.0 in /usr/local/lib/python3.10/dist-packages (from tensorflow) (0.2.0)\n",
            "Requirement already satisfied: opt-einsum>=2.3.2 in /usr/local/lib/python3.10/dist-packages (from tensorflow) (3.3.0)\n",
            "Requirement already satisfied: packaging in /usr/local/lib/python3.10/dist-packages (from tensorflow) (24.1)\n",
            "Requirement already satisfied: protobuf!=4.21.0,!=4.21.1,!=4.21.2,!=4.21.3,!=4.21.4,!=4.21.5,<5.0.0dev,>=3.20.3 in /usr/local/lib/python3.10/dist-packages (from tensorflow) (3.20.3)\n",
            "Requirement already satisfied: setuptools in /usr/local/lib/python3.10/dist-packages (from tensorflow) (67.7.2)\n",
            "Requirement already satisfied: six>=1.12.0 in /usr/local/lib/python3.10/dist-packages (from tensorflow) (1.16.0)\n",
            "Requirement already satisfied: termcolor>=1.1.0 in /usr/local/lib/python3.10/dist-packages (from tensorflow) (2.4.0)\n",
            "Requirement already satisfied: typing-extensions>=3.6.6 in /usr/local/lib/python3.10/dist-packages (from tensorflow) (4.12.2)\n",
            "Requirement already satisfied: wrapt<1.15,>=1.11.0 in /usr/local/lib/python3.10/dist-packages (from tensorflow) (1.14.1)\n",
            "Requirement already satisfied: tensorflow-io-gcs-filesystem>=0.23.1 in /usr/local/lib/python3.10/dist-packages (from tensorflow) (0.37.0)\n",
            "Requirement already satisfied: grpcio<2.0,>=1.24.3 in /usr/local/lib/python3.10/dist-packages (from tensorflow) (1.64.1)\n",
            "Requirement already satisfied: tensorboard<2.16,>=2.15 in /usr/local/lib/python3.10/dist-packages (from tensorflow) (2.15.2)\n",
            "Requirement already satisfied: tensorflow-estimator<2.16,>=2.15.0 in /usr/local/lib/python3.10/dist-packages (from tensorflow) (2.15.0)\n",
            "Requirement already satisfied: keras<2.16,>=2.15.0 in /usr/local/lib/python3.10/dist-packages (from tensorflow) (2.15.0)\n",
            "Requirement already satisfied: wheel<1.0,>=0.23.0 in /usr/local/lib/python3.10/dist-packages (from astunparse>=1.6.0->tensorflow) (0.43.0)\n",
            "Requirement already satisfied: soupsieve>1.2 in /usr/local/lib/python3.10/dist-packages (from beautifulsoup4>=4.11.1->yfinance) (2.5)\n",
            "Requirement already satisfied: stanio<2.0.0,>=0.4.0 in /usr/local/lib/python3.10/dist-packages (from cmdstanpy>=1.0.4->prophet) (0.5.0)\n",
            "Requirement already satisfied: python-dateutil in /usr/local/lib/python3.10/dist-packages (from holidays>=0.25->prophet) (2.8.2)\n",
            "Requirement already satisfied: webencodings in /usr/local/lib/python3.10/dist-packages (from html5lib>=1.1->yfinance) (0.5.1)\n",
            "Requirement already satisfied: contourpy>=1.0.1 in /usr/local/lib/python3.10/dist-packages (from matplotlib>=2.0.0->prophet) (1.2.1)\n",
            "Requirement already satisfied: cycler>=0.10 in /usr/local/lib/python3.10/dist-packages (from matplotlib>=2.0.0->prophet) (0.12.1)\n",
            "Requirement already satisfied: fonttools>=4.22.0 in /usr/local/lib/python3.10/dist-packages (from matplotlib>=2.0.0->prophet) (4.53.0)\n",
            "Requirement already satisfied: kiwisolver>=1.0.1 in /usr/local/lib/python3.10/dist-packages (from matplotlib>=2.0.0->prophet) (1.4.5)\n",
            "Requirement already satisfied: pillow>=6.2.0 in /usr/local/lib/python3.10/dist-packages (from matplotlib>=2.0.0->prophet) (9.4.0)\n",
            "Requirement already satisfied: pyparsing>=2.3.1 in /usr/local/lib/python3.10/dist-packages (from matplotlib>=2.0.0->prophet) (3.1.2)\n",
            "Requirement already satisfied: tzdata>=2022.1 in /usr/local/lib/python3.10/dist-packages (from pandas>=1.3.0->yfinance) (2024.1)\n",
            "Requirement already satisfied: charset-normalizer<4,>=2 in /usr/local/lib/python3.10/dist-packages (from requests>=2.31->yfinance) (3.3.2)\n",
            "Requirement already satisfied: idna<4,>=2.5 in /usr/local/lib/python3.10/dist-packages (from requests>=2.31->yfinance) (3.7)\n",
            "Requirement already satisfied: urllib3<3,>=1.21.1 in /usr/local/lib/python3.10/dist-packages (from requests>=2.31->yfinance) (2.0.7)\n",
            "Requirement already satisfied: certifi>=2017.4.17 in /usr/local/lib/python3.10/dist-packages (from requests>=2.31->yfinance) (2024.6.2)\n",
            "Requirement already satisfied: google-auth<3,>=1.6.3 in /usr/local/lib/python3.10/dist-packages (from tensorboard<2.16,>=2.15->tensorflow) (2.27.0)\n",
            "Requirement already satisfied: google-auth-oauthlib<2,>=0.5 in /usr/local/lib/python3.10/dist-packages (from tensorboard<2.16,>=2.15->tensorflow) (1.2.0)\n",
            "Requirement already satisfied: markdown>=2.6.8 in /usr/local/lib/python3.10/dist-packages (from tensorboard<2.16,>=2.15->tensorflow) (3.6)\n",
            "Requirement already satisfied: tensorboard-data-server<0.8.0,>=0.7.0 in /usr/local/lib/python3.10/dist-packages (from tensorboard<2.16,>=2.15->tensorflow) (0.7.2)\n",
            "Requirement already satisfied: werkzeug>=1.0.1 in /usr/local/lib/python3.10/dist-packages (from tensorboard<2.16,>=2.15->tensorflow) (3.0.3)\n",
            "Requirement already satisfied: cachetools<6.0,>=2.0.0 in /usr/local/lib/python3.10/dist-packages (from google-auth<3,>=1.6.3->tensorboard<2.16,>=2.15->tensorflow) (5.3.3)\n",
            "Requirement already satisfied: pyasn1-modules>=0.2.1 in /usr/local/lib/python3.10/dist-packages (from google-auth<3,>=1.6.3->tensorboard<2.16,>=2.15->tensorflow) (0.4.0)\n",
            "Requirement already satisfied: rsa<5,>=3.1.4 in /usr/local/lib/python3.10/dist-packages (from google-auth<3,>=1.6.3->tensorboard<2.16,>=2.15->tensorflow) (4.9)\n",
            "Requirement already satisfied: requests-oauthlib>=0.7.0 in /usr/local/lib/python3.10/dist-packages (from google-auth-oauthlib<2,>=0.5->tensorboard<2.16,>=2.15->tensorflow) (1.3.1)\n",
            "Requirement already satisfied: MarkupSafe>=2.1.1 in /usr/local/lib/python3.10/dist-packages (from werkzeug>=1.0.1->tensorboard<2.16,>=2.15->tensorflow) (2.1.5)\n",
            "Requirement already satisfied: pyasn1<0.7.0,>=0.4.6 in /usr/local/lib/python3.10/dist-packages (from pyasn1-modules>=0.2.1->google-auth<3,>=1.6.3->tensorboard<2.16,>=2.15->tensorflow) (0.6.0)\n",
            "Requirement already satisfied: oauthlib>=3.0.0 in /usr/local/lib/python3.10/dist-packages (from requests-oauthlib>=0.7.0->google-auth-oauthlib<2,>=0.5->tensorboard<2.16,>=2.15->tensorflow) (3.2.2)\n"
          ]
        }
      ],
      "source": [
        "!pip install yfinance prophet tensorflow"
      ]
    },
    {
      "cell_type": "code",
      "source": [
        "import pandas as pd\n",
        "import numpy as np\n",
        "import yfinance as yf\n",
        "from datetime import datetime\n",
        "from prophet import Prophet\n",
        "from tensorflow.keras.models import Sequential\n",
        "from tensorflow.keras.layers import GRU, Dense\n",
        "from sklearn.preprocessing import MinMaxScaler\n",
        "import matplotlib.pyplot as plt\n",
        "from tensorflow.keras.callbacks import EarlyStopping\n"
      ],
      "metadata": {
        "id": "zlyPZOpOyGKA"
      },
      "execution_count": 3,
      "outputs": []
    },
    {
      "cell_type": "code",
      "source": [
        "# Baixar dados históricos do preço de fechamento do Ethereum até o final de 2023\n",
        "end_date = '2024-06-30'\n",
        "today = '2024-06-30'  # Data final para previsão\n",
        "df_ethereum = yf.download('ETH-USD', '2016-01-01', end_date)\n",
        "df_ethereum.reset_index(inplace=True)"
      ],
      "metadata": {
        "colab": {
          "base_uri": "https://localhost:8080/"
        },
        "id": "RzGH66xtyL1m",
        "outputId": "7278c9bc-2821-465b-97ad-5ca25d86bb35"
      },
      "execution_count": 4,
      "outputs": [
        {
          "output_type": "stream",
          "name": "stderr",
          "text": [
            "\r[*********************100%%**********************]  1 of 1 completed\n"
          ]
        }
      ]
    },
    {
      "cell_type": "code",
      "source": [
        "# Preparar dados para Prophet e GRU\n",
        "df = df_ethereum[[\"Date\", \"Adj Close\"]]\n",
        "df.rename(columns={'Date': 'ds', 'Adj Close': 'y'}, inplace=True)"
      ],
      "metadata": {
        "colab": {
          "base_uri": "https://localhost:8080/"
        },
        "id": "RnRYb-4wyRYH",
        "outputId": "68facf2b-ea8c-4f7c-b5c3-b95cf001b8c8"
      },
      "execution_count": 5,
      "outputs": [
        {
          "output_type": "stream",
          "name": "stderr",
          "text": [
            "<ipython-input-5-ae729887803a>:3: SettingWithCopyWarning: \n",
            "A value is trying to be set on a copy of a slice from a DataFrame\n",
            "\n",
            "See the caveats in the documentation: https://pandas.pydata.org/pandas-docs/stable/user_guide/indexing.html#returning-a-view-versus-a-copy\n",
            "  df.rename(columns={'Date': 'ds', 'Adj Close': 'y'}, inplace=True)\n"
          ]
        }
      ]
    },
    {
      "cell_type": "code",
      "source": [
        "# Instanciar e ajustar o modelo Prophet\n",
        "model_prophet = Prophet(\n",
        "    seasonality_mode='multiplicative',\n",
        "    yearly_seasonality=True,\n",
        "    weekly_seasonality=True\n",
        ")\n",
        "model_prophet.fit(df)"
      ],
      "metadata": {
        "colab": {
          "base_uri": "https://localhost:8080/"
        },
        "id": "WGUCiGL_yTu3",
        "outputId": "b6661a21-04b3-4335-ab56-2938402474c5"
      },
      "execution_count": 6,
      "outputs": [
        {
          "output_type": "stream",
          "name": "stderr",
          "text": [
            "INFO:prophet:Disabling daily seasonality. Run prophet with daily_seasonality=True to override this.\n",
            "DEBUG:cmdstanpy:input tempfile: /tmp/tmp740e5wl3/iazlhoac.json\n",
            "DEBUG:cmdstanpy:input tempfile: /tmp/tmp740e5wl3/__vrtj_9.json\n",
            "DEBUG:cmdstanpy:idx 0\n",
            "DEBUG:cmdstanpy:running CmdStan, num_threads: None\n",
            "DEBUG:cmdstanpy:CmdStan args: ['/usr/local/lib/python3.10/dist-packages/prophet/stan_model/prophet_model.bin', 'random', 'seed=83613', 'data', 'file=/tmp/tmp740e5wl3/iazlhoac.json', 'init=/tmp/tmp740e5wl3/__vrtj_9.json', 'output', 'file=/tmp/tmp740e5wl3/prophet_modelgxzonkcr/prophet_model-20240701234610.csv', 'method=optimize', 'algorithm=lbfgs', 'iter=10000']\n",
            "23:46:10 - cmdstanpy - INFO - Chain [1] start processing\n",
            "INFO:cmdstanpy:Chain [1] start processing\n",
            "23:46:12 - cmdstanpy - INFO - Chain [1] done processing\n",
            "INFO:cmdstanpy:Chain [1] done processing\n"
          ]
        },
        {
          "output_type": "execute_result",
          "data": {
            "text/plain": [
              "<prophet.forecaster.Prophet at 0x79b52aa837c0>"
            ]
          },
          "metadata": {},
          "execution_count": 6
        }
      ]
    },
    {
      "cell_type": "code",
      "source": [
        "# Criar um DataFrame futuro para prever os próximos 6 meses (até 30/06/2024)\n",
        "future = model_prophet.make_future_dataframe(periods=(pd.to_datetime(today) - pd.to_datetime(end_date)).days)\n",
        "forecast_prophet = model_prophet.predict(future)"
      ],
      "metadata": {
        "id": "PaNJmMJ0Rvty"
      },
      "execution_count": 7,
      "outputs": []
    },
    {
      "cell_type": "code",
      "source": [
        "# Normalizar dados\n",
        "data = df['y'].values.reshape(-1, 1)\n",
        "scaler = MinMaxScaler(feature_range=(0, 1))\n",
        "data_scaled = scaler.fit_transform(data)"
      ],
      "metadata": {
        "id": "PH0KZfDTRw_T"
      },
      "execution_count": 8,
      "outputs": []
    },
    {
      "cell_type": "code",
      "source": [
        "# Criar conjuntos de dados para o GRU\n",
        "def create_dataset(dataset, look_back=1):\n",
        "    X, Y = [], []\n",
        "    for i in range(len(dataset) - look_back - 1):\n",
        "        a = dataset[i:(i + look_back), 0]\n",
        "        X.append(a)\n",
        "        Y.append(dataset[i + look_back, 0])\n",
        "    return np.array(X), np.array(Y)\n",
        "\n",
        "look_back = 60\n",
        "X, y = create_dataset(data_scaled, look_back)\n",
        "X = np.reshape(X, (X.shape[0], X.shape[1], 1))  # Adicionar dimensão de tempo para GRU"
      ],
      "metadata": {
        "id": "an-74VoVRzJT"
      },
      "execution_count": 9,
      "outputs": []
    },
    {
      "cell_type": "code",
      "source": [
        "# Construir o modelo GRU\n",
        "model_gru = Sequential()\n",
        "model_gru.add(GRU(100, return_sequences=True, input_shape=(look_back, 1)))\n",
        "model_gru.add(GRU(100, return_sequences=False))\n",
        "model_gru.add(Dense(25))\n",
        "model_gru.add(Dense(1))\n",
        "model_gru.compile(optimizer='adam', loss='mean_squared_error')"
      ],
      "metadata": {
        "id": "nDQRYGZlR1Uk"
      },
      "execution_count": 10,
      "outputs": []
    },
    {
      "cell_type": "code",
      "source": [
        "# Adicionar early stopping\n",
        "early_stopping = EarlyStopping(monitor='loss', patience=10, restore_best_weights=True)\n",
        "\n",
        "# Treinar o modelo GRU com early stopping\n",
        "\n",
        "num_epochs = 120  # Aumente o número de épocas conforme necessário\n",
        "history = model_gru.fit(X, y, batch_size=1, epochs=num_epochs, validation_split=0.2, callbacks=[early_stopping])\n",
        "\n"
      ],
      "metadata": {
        "colab": {
          "base_uri": "https://localhost:8080/"
        },
        "id": "xgvwmm7OR3zL",
        "outputId": "09254c7b-2739-43d2-dd96-4a23d361f619"
      },
      "execution_count": null,
      "outputs": [
        {
          "output_type": "stream",
          "name": "stdout",
          "text": [
            "Epoch 1/120\n",
            "1891/1891 [==============================] - 116s 58ms/step - loss: 0.0013 - val_loss: 0.0010\n",
            "Epoch 2/120\n",
            "1891/1891 [==============================] - 106s 56ms/step - loss: 9.5679e-04 - val_loss: 0.0016\n",
            "Epoch 3/120\n",
            "1891/1891 [==============================] - 105s 56ms/step - loss: 7.3721e-04 - val_loss: 4.7949e-04\n",
            "Epoch 4/120\n",
            "1891/1891 [==============================] - 113s 60ms/step - loss: 8.9956e-04 - val_loss: 2.9174e-04\n",
            "Epoch 5/120\n",
            "1891/1891 [==============================] - 107s 57ms/step - loss: 5.7734e-04 - val_loss: 7.2904e-04\n",
            "Epoch 6/120\n",
            "1891/1891 [==============================] - 105s 56ms/step - loss: 6.1709e-04 - val_loss: 3.6613e-04\n",
            "Epoch 7/120\n",
            "1891/1891 [==============================] - 105s 55ms/step - loss: 5.3653e-04 - val_loss: 2.9477e-04\n",
            "Epoch 8/120\n",
            "1891/1891 [==============================] - 105s 55ms/step - loss: 5.1666e-04 - val_loss: 0.0014\n",
            "Epoch 9/120\n",
            "1891/1891 [==============================] - 104s 55ms/step - loss: 5.3229e-04 - val_loss: 2.5765e-04\n",
            "Epoch 10/120\n",
            "1891/1891 [==============================] - 106s 56ms/step - loss: 5.2842e-04 - val_loss: 5.8822e-04\n",
            "Epoch 11/120\n",
            "1891/1891 [==============================] - 106s 56ms/step - loss: 5.0759e-04 - val_loss: 3.0066e-04\n",
            "Epoch 12/120\n",
            "1891/1891 [==============================] - 106s 56ms/step - loss: 4.5608e-04 - val_loss: 0.0017\n",
            "Epoch 13/120\n",
            "1891/1891 [==============================] - 105s 56ms/step - loss: 4.5911e-04 - val_loss: 2.7852e-04\n",
            "Epoch 14/120\n",
            "1891/1891 [==============================] - 106s 56ms/step - loss: 4.9196e-04 - val_loss: 5.9119e-04\n",
            "Epoch 15/120\n",
            "1891/1891 [==============================] - 106s 56ms/step - loss: 4.5846e-04 - val_loss: 3.0555e-04\n",
            "Epoch 16/120\n",
            "1891/1891 [==============================] - 104s 55ms/step - loss: 4.5917e-04 - val_loss: 2.6363e-04\n",
            "Epoch 17/120\n",
            "1891/1891 [==============================] - 105s 56ms/step - loss: 4.2308e-04 - val_loss: 0.0017\n",
            "Epoch 18/120\n",
            "1891/1891 [==============================] - 108s 57ms/step - loss: 4.6513e-04 - val_loss: 6.0890e-04\n",
            "Epoch 19/120\n",
            "1891/1891 [==============================] - 112s 59ms/step - loss: 4.5112e-04 - val_loss: 3.3231e-04\n",
            "Epoch 20/120\n",
            "1891/1891 [==============================] - 108s 57ms/step - loss: 4.3801e-04 - val_loss: 7.9642e-04\n",
            "Epoch 21/120\n",
            "1891/1891 [==============================] - 107s 57ms/step - loss: 4.4545e-04 - val_loss: 5.8158e-04\n",
            "Epoch 22/120\n",
            "1891/1891 [==============================] - 109s 58ms/step - loss: 4.3565e-04 - val_loss: 0.0059\n",
            "Epoch 23/120\n",
            "1891/1891 [==============================] - 109s 58ms/step - loss: 5.2679e-04 - val_loss: 2.9131e-04\n",
            "Epoch 24/120\n",
            "1891/1891 [==============================] - 105s 56ms/step - loss: 4.1981e-04 - val_loss: 2.8303e-04\n",
            "Epoch 25/120\n",
            "1891/1891 [==============================] - 113s 60ms/step - loss: 4.2485e-04 - val_loss: 3.9776e-04\n",
            "Epoch 26/120\n",
            "1891/1891 [==============================] - 107s 56ms/step - loss: 4.4144e-04 - val_loss: 2.4095e-04\n",
            "Epoch 27/120\n",
            "1891/1891 [==============================] - 105s 56ms/step - loss: 4.1654e-04 - val_loss: 4.9280e-04\n",
            "Epoch 28/120\n",
            "1891/1891 [==============================] - 107s 57ms/step - loss: 4.0068e-04 - val_loss: 3.1495e-04\n",
            "Epoch 29/120\n",
            "1891/1891 [==============================] - 106s 56ms/step - loss: 4.1477e-04 - val_loss: 2.9374e-04\n",
            "Epoch 30/120\n",
            "1891/1891 [==============================] - 124s 66ms/step - loss: 4.0713e-04 - val_loss: 3.7127e-04\n",
            "Epoch 31/120\n",
            "1891/1891 [==============================] - 109s 58ms/step - loss: 4.2712e-04 - val_loss: 5.1341e-04\n",
            "Epoch 32/120\n",
            "1891/1891 [==============================] - 105s 56ms/step - loss: 4.3679e-04 - val_loss: 2.4093e-04\n",
            "Epoch 33/120\n",
            "1891/1891 [==============================] - 110s 58ms/step - loss: 4.4147e-04 - val_loss: 3.8583e-04\n",
            "Epoch 34/120\n",
            "1891/1891 [==============================] - 110s 58ms/step - loss: 3.9024e-04 - val_loss: 2.7546e-04\n",
            "Epoch 35/120\n",
            "1891/1891 [==============================] - 106s 56ms/step - loss: 4.0689e-04 - val_loss: 2.4814e-04\n",
            "Epoch 36/120\n",
            "1891/1891 [==============================] - 107s 56ms/step - loss: 3.9325e-04 - val_loss: 3.8737e-04\n",
            "Epoch 37/120\n",
            "1891/1891 [==============================] - 108s 57ms/step - loss: 4.1452e-04 - val_loss: 2.6521e-04\n",
            "Epoch 38/120\n",
            "1891/1891 [==============================] - 105s 55ms/step - loss: 4.5799e-04 - val_loss: 2.5454e-04\n",
            "Epoch 39/120\n",
            "1891/1891 [==============================] - 108s 57ms/step - loss: 3.9599e-04 - val_loss: 5.0679e-04\n",
            "Epoch 40/120\n",
            "1891/1891 [==============================] - 107s 57ms/step - loss: 4.1629e-04 - val_loss: 4.6510e-04\n",
            "Epoch 41/120\n",
            "1891/1891 [==============================] - 109s 58ms/step - loss: 3.7722e-04 - val_loss: 3.3405e-04\n",
            "Epoch 42/120\n",
            "1891/1891 [==============================] - 112s 59ms/step - loss: 4.0103e-04 - val_loss: 3.2248e-04\n",
            "Epoch 43/120\n",
            "1891/1891 [==============================] - 109s 58ms/step - loss: 3.8765e-04 - val_loss: 5.5370e-04\n",
            "Epoch 44/120\n",
            "1891/1891 [==============================] - 111s 59ms/step - loss: 4.2544e-04 - val_loss: 3.0372e-04\n",
            "Epoch 45/120\n",
            "1891/1891 [==============================] - 107s 57ms/step - loss: 3.9351e-04 - val_loss: 2.3546e-04\n",
            "Epoch 46/120\n",
            "1891/1891 [==============================] - 105s 56ms/step - loss: 3.7817e-04 - val_loss: 2.9087e-04\n",
            "Epoch 47/120\n",
            "1891/1891 [==============================] - 108s 57ms/step - loss: 3.8163e-04 - val_loss: 2.9482e-04\n",
            "Epoch 48/120\n",
            "1718/1891 [==========================>...] - ETA: 9s - loss: 4.2936e-04"
          ]
        }
      ]
    },
    {
      "cell_type": "code",
      "source": [
        "# Plotar o erro de treinamento e validação\n",
        "plt.figure(figsize=(12, 6))\n",
        "plt.plot(history.history['loss'], label='Erro de Treinamento')\n",
        "plt.plot(history.history['val_loss'], label='Erro de Validação')\n",
        "plt.xlabel('Épocas')\n",
        "plt.ylabel('Erro')\n",
        "plt.legend()\n",
        "plt.title('Erro de Treinamento e Validação ao longo das Épocas')\n",
        "plt.show()"
      ],
      "metadata": {
        "id": "I76cL4gLYv86"
      },
      "execution_count": null,
      "outputs": []
    },
    {
      "cell_type": "code",
      "source": [
        "# Fazer previsões com GRU\n",
        "def predict_future(model, data_scaled, look_back, n_future):\n",
        "    predictions = []\n",
        "    last_data = data_scaled[-look_back:]\n",
        "\n",
        "    for _ in range(n_future):\n",
        "        X_input = np.reshape(last_data, (1, look_back, 1))\n",
        "        next_pred = model.predict(X_input)\n",
        "        predictions.append(next_pred[0, 0])\n",
        "        last_data = np.append(last_data[1:], next_pred, axis=0)\n",
        "\n",
        "    return np.array(predictions)"
      ],
      "metadata": {
        "id": "8o86uvxjR7Fk"
      },
      "execution_count": null,
      "outputs": []
    },
    {
      "cell_type": "code",
      "source": [
        "# Gerar previsões até 30/06/2024\n",
        "n_future = (pd.to_datetime(today) - pd.to_datetime(end_date)).days\n",
        "predictions_gru = predict_future(model_gru, data_scaled, look_back, n_future)\n",
        "predictions_gru = scaler.inverse_transform(predictions_gru.reshape(-1, 1))"
      ],
      "metadata": {
        "id": "Zp4jSJ5VSnnC"
      },
      "execution_count": null,
      "outputs": []
    },
    {
      "cell_type": "code",
      "source": [
        "# Convertendo end_date para um objeto datetime\n",
        "end_date_dt = pd.to_datetime(end_date)\n",
        "\n",
        "# Criar DataFrame para previsões do GRU\n",
        "gru_forecast_index = pd.date_range(start=end_date_dt + pd.Timedelta(days=1), end=today, freq='D')\n",
        "gru_forecast_df = pd.DataFrame({\n",
        "    'ds': gru_forecast_index,\n",
        "    'yhat_gru': predictions_gru.flatten()\n",
        "})"
      ],
      "metadata": {
        "id": "skdwU4H6Speb"
      },
      "execution_count": null,
      "outputs": []
    },
    {
      "cell_type": "code",
      "source": [
        "# Criar DataFrame combinado de previsões\n",
        "combined_forecast = forecast_prophet[['ds', 'yhat']].copy()\n",
        "combined_forecast = combined_forecast.merge(gru_forecast_df, on='ds', how='left')"
      ],
      "metadata": {
        "id": "d1TCnY50Sxl7"
      },
      "execution_count": null,
      "outputs": []
    },
    {
      "cell_type": "code",
      "source": [
        "# Previsão combinada\n",
        "weight_prophet = 0.5\n",
        "weight_gru = 0.5\n",
        "combined_forecast['yhat_combined'] = (weight_prophet * combined_forecast['yhat'] +\n",
        "                                      weight_gru * combined_forecast['yhat_gru'])"
      ],
      "metadata": {
        "id": "OlXXkxORVDDS"
      },
      "execution_count": null,
      "outputs": []
    },
    {
      "cell_type": "code",
      "source": [
        "# Obter dados reais de 2024 para comparação\n",
        "df_real_2024 = yf.download('ETH-USD', '2024-01-01', today)\n",
        "df_real_2024.reset_index(inplace=True)\n",
        "df_real_2024 = df_real_2024[[\"Date\", \"Adj Close\"]]\n",
        "df_real_2024.rename(columns={'Date': 'ds', 'Adj Close': 'y_real'}, inplace=True)"
      ],
      "metadata": {
        "id": "XyWoxzeaVFNU"
      },
      "execution_count": null,
      "outputs": []
    },
    {
      "cell_type": "code",
      "source": [
        "# Merge os dados reais de 2024 com previsões combinadas\n",
        "final_data = combined_forecast.merge(df_real_2024, on='ds', how='left')"
      ],
      "metadata": {
        "id": "p5ODBnKCVHEc"
      },
      "execution_count": null,
      "outputs": []
    },
    {
      "cell_type": "code",
      "source": [
        "# Calcular erros\n",
        "final_data['error'] = final_data['y_real'] - final_data['yhat_combined']\n",
        "final_data['absolute_error'] = np.abs(final_data['error'])\n",
        "final_data['squared_error'] = final_data['error'] ** 2"
      ],
      "metadata": {
        "id": "jR-c3Z9RVKZN"
      },
      "execution_count": null,
      "outputs": []
    },
    {
      "cell_type": "code",
      "source": [
        "# Número de linhas antes da remoção de NaNs\n",
        "print(f\"Número de linhas antes da remoção de NaNs: {len(final_data)}\")\n",
        "\n",
        "# Remover valores NaN\n",
        "final_data_clean = final_data.dropna(subset=['error', 'absolute_error', 'squared_error'])\n",
        "\n",
        "# Número de linhas após a remoção de NaNs\n",
        "print(\"\\nDataFrame após remoção de NaNs (final_data_clean):\")\n",
        "print(final_data_clean.head())\n",
        "print(f\"Número de linhas após remoção de NaNs: {len(final_data_clean)}\")"
      ],
      "metadata": {
        "id": "WVTWaYklVMYL"
      },
      "execution_count": null,
      "outputs": []
    },
    {
      "cell_type": "code",
      "source": [
        "# Passo 2: Visualizar a dispersão do erro\n",
        "plt.figure(figsize=(20, 10))\n",
        "\n",
        "# Gráfico de dispersão dos erros\n",
        "plt.subplot(2, 2, 1)\n",
        "plt.scatter(final_data_clean['ds'], final_data_clean['error'], alpha=0.5)\n",
        "plt.xlabel('Data')\n",
        "plt.ylabel('Erro')\n",
        "plt.title('Dispersão do Erro das Previsões Combinadas')\n",
        "\n",
        "# Histograma do erro absoluto\n",
        "plt.subplot(2, 2, 2)\n",
        "plt.hist(final_data_clean['absolute_error'], bins=50, edgecolor='k')\n",
        "plt.xlabel('Erro Absoluto')\n",
        "plt.ylabel('Frequência')\n",
        "plt.title('Distribuição do Erro Absoluto')\n",
        "\n",
        "# Histograma do erro quadrático\n",
        "plt.subplot(2, 2, 3)\n",
        "plt.hist(final_data_clean['squared_error'], bins=50, edgecolor='k')\n",
        "plt.xlabel('Erro Quadrático')\n",
        "plt.ylabel('Frequência')\n",
        "plt.title('Distribuição do Erro Quadrático')\n",
        "\n",
        "# Gráfico de dispersão do erro em relação aos valores reais\n",
        "plt.subplot(2, 2, 4)\n",
        "plt.scatter(final_data_clean['y_real'], final_data_clean['error'], alpha=0.5)\n",
        "plt.xlabel('Valor Real')\n",
        "plt.ylabel('Erro')\n",
        "plt.title('Erro vs Valor Real')\n",
        "\n",
        "plt.tight_layout()\n",
        "plt.show()"
      ],
      "metadata": {
        "id": "dD_J_bHNVO7T"
      },
      "execution_count": null,
      "outputs": []
    },
    {
      "cell_type": "code",
      "source": [
        "# Visualizar dados históricos, previsões e dados reais\n",
        "plt.figure(figsize=(20, 10))\n",
        "\n",
        "# Plotar dados históricos\n",
        "plt.plot(df['ds'], df['y'], label='Dados Históricos')\n",
        "\n",
        "# Plotar previsões Prophet\n",
        "plt.plot(combined_forecast['ds'], combined_forecast['yhat'], label='Previsão Prophet')\n",
        "\n",
        "# Plotar previsões GRU\n",
        "plt.plot(combined_forecast['ds'], combined_forecast['yhat_gru'], label='Previsão GRU')\n",
        "\n",
        "# Plotar previsões combinadas\n",
        "plt.plot(combined_forecast['ds'], combined_forecast['yhat_combined'], label='Previsão Combinada')\n",
        "\n",
        "# Plotar dados reais de 2024\n",
        "plt.plot(df_real_2024['ds'], df_real_2024['y_real'], label='Dados Reais 2024', linestyle='dotted')\n",
        "\n",
        "plt.legend()\n",
        "plt.xlabel('Data')\n",
        "plt.ylabel('Preço (USD)')\n",
        "plt.title('Previsões de Preço do Ethereum')\n",
        "plt.grid(True)\n",
        "plt.show()"
      ],
      "metadata": {
        "id": "y6erJvABVj5j"
      },
      "execution_count": null,
      "outputs": []
    },
    {
      "cell_type": "code",
      "source": [],
      "metadata": {
        "id": "wv1-ZEddWR7K"
      },
      "execution_count": null,
      "outputs": []
    }
  ]
}
